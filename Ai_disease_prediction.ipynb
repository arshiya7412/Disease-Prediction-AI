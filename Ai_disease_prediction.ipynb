https://colab.research.google.com/github/arshiya7412/Disease-Prediction-AI/blob/main/app_py.ipynb#scrollTo=9Ynsdlw3LtCG
